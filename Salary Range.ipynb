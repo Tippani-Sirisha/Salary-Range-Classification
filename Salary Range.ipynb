{
 "cells": [
  {
   "cell_type": "markdown",
   "metadata": {},
   "source": [
    "# Import Libraries"
   ]
  },
  {
   "cell_type": "code",
   "execution_count": 2,
   "metadata": {},
   "outputs": [],
   "source": [
    "import pandas as pd\n",
    "import numpy as np\n",
    "import statsmodels.api as sm\n",
    "import scipy.stats as st\n",
    "import matplotlib.pyplot as plt\n",
    "import seaborn as sn\n",
    "from sklearn.metrics import confusion_matrix\n",
    "import matplotlib.mlab as mlab\n",
    "%matplotlib inline\n",
    "from sklearn import metrics\n",
    "import seaborn as sns\n",
    "\n",
    "from sklearn.model_selection import train_test_split\n",
    "from sklearn.pipeline import make_pipeline\n",
    "\n",
    "from sklearn.metrics import precision_score, recall_score, f1_score, roc_auc_score, accuracy_score, classification_report\n",
    "from collections import Counter\n",
    "from sklearn.model_selection import KFold, StratifiedKFold\n",
    "\n",
    "from sklearn.model_selection import train_test_split\n",
    "from sklearn.pipeline import make_pipeline\n",
    "\n",
    "from sklearn.metrics import precision_score, recall_score, f1_score, roc_auc_score, accuracy_score, classification_report\n",
    "from collections import Counter\n",
    "from sklearn.model_selection import KFold, StratifiedKFold\n",
    "\n",
    "from sklearn.ensemble import RandomForestClassifier\n",
    "from sklearn.decomposition import PCA\n",
    "\n",
    "from sklearn.metrics import confusion_matrix\n",
    "from sklearn import tree,metrics"
   ]
  },
  {
   "cell_type": "code",
   "execution_count": 3,
   "metadata": {},
   "outputs": [],
   "source": [
    "pd.options.display.max_columns=None"
   ]
  },
  {
   "cell_type": "markdown",
   "metadata": {},
   "source": [
    "# Import Dataset"
   ]
  },
  {
   "cell_type": "code",
   "execution_count": 4,
   "metadata": {},
   "outputs": [
    {
     "data": {
      "text/html": [
       "<div>\n",
       "<style scoped>\n",
       "    .dataframe tbody tr th:only-of-type {\n",
       "        vertical-align: middle;\n",
       "    }\n",
       "\n",
       "    .dataframe tbody tr th {\n",
       "        vertical-align: top;\n",
       "    }\n",
       "\n",
       "    .dataframe thead th {\n",
       "        text-align: right;\n",
       "    }\n",
       "</style>\n",
       "<table border=\"1\" class=\"dataframe\">\n",
       "  <thead>\n",
       "    <tr style=\"text-align: right;\">\n",
       "      <th></th>\n",
       "      <th>ID</th>\n",
       "      <th>Year Type</th>\n",
       "      <th>Year</th>\n",
       "      <th>Organization Group Code</th>\n",
       "      <th>Organization Group</th>\n",
       "      <th>Department Code</th>\n",
       "      <th>Department</th>\n",
       "      <th>Union Code</th>\n",
       "      <th>Union</th>\n",
       "      <th>Job Family Code</th>\n",
       "      <th>Job Family</th>\n",
       "      <th>Job Code</th>\n",
       "      <th>Job</th>\n",
       "      <th>Employee Identifier</th>\n",
       "      <th>Overtime</th>\n",
       "      <th>Other Salaries</th>\n",
       "      <th>Retirement</th>\n",
       "      <th>Health/Dental</th>\n",
       "      <th>Other Benefits</th>\n",
       "      <th>Total Benefits</th>\n",
       "    </tr>\n",
       "  </thead>\n",
       "  <tbody>\n",
       "    <tr>\n",
       "      <th>0</th>\n",
       "      <td>9240</td>\n",
       "      <td>Fiscal</td>\n",
       "      <td>2015</td>\n",
       "      <td>4</td>\n",
       "      <td>Community Health</td>\n",
       "      <td>DPH</td>\n",
       "      <td>DPH Public Health</td>\n",
       "      <td>790</td>\n",
       "      <td>SEIU - Miscellaneous, Local 1021</td>\n",
       "      <td>2400</td>\n",
       "      <td>Lab, Pharmacy &amp; Med Techs</td>\n",
       "      <td>2454</td>\n",
       "      <td>Clinical Pharmacist</td>\n",
       "      <td>23148</td>\n",
       "      <td>0.0</td>\n",
       "      <td>0.00</td>\n",
       "      <td>0.00</td>\n",
       "      <td>2203.32</td>\n",
       "      <td>2014.12</td>\n",
       "      <td>4217.44</td>\n",
       "    </tr>\n",
       "    <tr>\n",
       "      <th>1</th>\n",
       "      <td>209951</td>\n",
       "      <td>Fiscal</td>\n",
       "      <td>2016</td>\n",
       "      <td>4</td>\n",
       "      <td>Community Health</td>\n",
       "      <td>DPH</td>\n",
       "      <td>DPH Public Health</td>\n",
       "      <td>791</td>\n",
       "      <td>SEIU - Staff and Per Diem Nurses, Local 1021</td>\n",
       "      <td>2300</td>\n",
       "      <td>Nursing</td>\n",
       "      <td>2328</td>\n",
       "      <td>Nurse Practitioner</td>\n",
       "      <td>8789</td>\n",
       "      <td>0.0</td>\n",
       "      <td>1689.53</td>\n",
       "      <td>31464.76</td>\n",
       "      <td>11872.83</td>\n",
       "      <td>9947.92</td>\n",
       "      <td>53285.51</td>\n",
       "    </tr>\n",
       "    <tr>\n",
       "      <th>2</th>\n",
       "      <td>29879</td>\n",
       "      <td>Fiscal</td>\n",
       "      <td>2016</td>\n",
       "      <td>5</td>\n",
       "      <td>Culture &amp; Recreation</td>\n",
       "      <td>LIB</td>\n",
       "      <td>LIB Public Library</td>\n",
       "      <td>790</td>\n",
       "      <td>SEIU - Miscellaneous, Local 1021</td>\n",
       "      <td>3600</td>\n",
       "      <td>Library</td>\n",
       "      <td>3610</td>\n",
       "      <td>Library Assistant</td>\n",
       "      <td>48290</td>\n",
       "      <td>0.0</td>\n",
       "      <td>932.77</td>\n",
       "      <td>8858.22</td>\n",
       "      <td>9705.96</td>\n",
       "      <td>3764.93</td>\n",
       "      <td>22329.11</td>\n",
       "    </tr>\n",
       "    <tr>\n",
       "      <th>3</th>\n",
       "      <td>177914</td>\n",
       "      <td>Fiscal</td>\n",
       "      <td>2015</td>\n",
       "      <td>1</td>\n",
       "      <td>Public Protection</td>\n",
       "      <td>POL</td>\n",
       "      <td>POL Police</td>\n",
       "      <td>21</td>\n",
       "      <td>Prof &amp; Tech Engineers - Miscellaneous, Local 21</td>\n",
       "      <td>1800</td>\n",
       "      <td>Budget, Admn &amp; Stats Analysis</td>\n",
       "      <td>1824</td>\n",
       "      <td>Pr Administrative Analyst</td>\n",
       "      <td>43253</td>\n",
       "      <td>0.0</td>\n",
       "      <td>0.00</td>\n",
       "      <td>23955.61</td>\n",
       "      <td>11687.19</td>\n",
       "      <td>8880.83</td>\n",
       "      <td>44523.63</td>\n",
       "    </tr>\n",
       "    <tr>\n",
       "      <th>4</th>\n",
       "      <td>180406</td>\n",
       "      <td>Fiscal</td>\n",
       "      <td>2015</td>\n",
       "      <td>4</td>\n",
       "      <td>Community Health</td>\n",
       "      <td>DPH</td>\n",
       "      <td>DPH Public Health</td>\n",
       "      <td>790</td>\n",
       "      <td>SEIU - Miscellaneous, Local 1021</td>\n",
       "      <td>2900</td>\n",
       "      <td>Human Services</td>\n",
       "      <td>2930</td>\n",
       "      <td>Psychiatric Social Worker</td>\n",
       "      <td>13722</td>\n",
       "      <td>0.0</td>\n",
       "      <td>620.54</td>\n",
       "      <td>20644.61</td>\n",
       "      <td>12384.59</td>\n",
       "      <td>7491.65</td>\n",
       "      <td>40520.85</td>\n",
       "    </tr>\n",
       "  </tbody>\n",
       "</table>\n",
       "</div>"
      ],
      "text/plain": [
       "       ID Year Type  Year  Organization Group Code    Organization Group  \\\n",
       "0    9240    Fiscal  2015                        4      Community Health   \n",
       "1  209951    Fiscal  2016                        4      Community Health   \n",
       "2   29879    Fiscal  2016                        5  Culture & Recreation   \n",
       "3  177914    Fiscal  2015                        1     Public Protection   \n",
       "4  180406    Fiscal  2015                        4      Community Health   \n",
       "\n",
       "  Department Code          Department  Union Code  \\\n",
       "0             DPH   DPH Public Health         790   \n",
       "1             DPH   DPH Public Health         791   \n",
       "2             LIB  LIB Public Library         790   \n",
       "3             POL          POL Police          21   \n",
       "4             DPH   DPH Public Health         790   \n",
       "\n",
       "                                             Union Job Family Code  \\\n",
       "0                 SEIU - Miscellaneous, Local 1021            2400   \n",
       "1     SEIU - Staff and Per Diem Nurses, Local 1021            2300   \n",
       "2                 SEIU - Miscellaneous, Local 1021            3600   \n",
       "3  Prof & Tech Engineers - Miscellaneous, Local 21            1800   \n",
       "4                 SEIU - Miscellaneous, Local 1021            2900   \n",
       "\n",
       "                      Job Family Job Code                        Job  \\\n",
       "0      Lab, Pharmacy & Med Techs     2454        Clinical Pharmacist   \n",
       "1                        Nursing     2328         Nurse Practitioner   \n",
       "2                        Library     3610          Library Assistant   \n",
       "3  Budget, Admn & Stats Analysis     1824  Pr Administrative Analyst   \n",
       "4                 Human Services     2930  Psychiatric Social Worker   \n",
       "\n",
       "   Employee Identifier  Overtime  Other Salaries  Retirement  Health/Dental  \\\n",
       "0                23148       0.0            0.00        0.00        2203.32   \n",
       "1                 8789       0.0         1689.53    31464.76       11872.83   \n",
       "2                48290       0.0          932.77     8858.22        9705.96   \n",
       "3                43253       0.0            0.00    23955.61       11687.19   \n",
       "4                13722       0.0          620.54    20644.61       12384.59   \n",
       "\n",
       "   Other Benefits  Total Benefits  \n",
       "0         2014.12         4217.44  \n",
       "1         9947.92        53285.51  \n",
       "2         3764.93        22329.11  \n",
       "3         8880.83        44523.63  \n",
       "4         7491.65        40520.85  "
      ]
     },
     "execution_count": 4,
     "metadata": {},
     "output_type": "execute_result"
    }
   ],
   "source": [
    "test = pd.read_csv('test.csv')\n",
    "test.head()"
   ]
  },
  {
   "cell_type": "code",
   "execution_count": 5,
   "metadata": {},
   "outputs": [
    {
     "data": {
      "text/html": [
       "<div>\n",
       "<style scoped>\n",
       "    .dataframe tbody tr th:only-of-type {\n",
       "        vertical-align: middle;\n",
       "    }\n",
       "\n",
       "    .dataframe tbody tr th {\n",
       "        vertical-align: top;\n",
       "    }\n",
       "\n",
       "    .dataframe thead th {\n",
       "        text-align: right;\n",
       "    }\n",
       "</style>\n",
       "<table border=\"1\" class=\"dataframe\">\n",
       "  <thead>\n",
       "    <tr style=\"text-align: right;\">\n",
       "      <th></th>\n",
       "      <th>ID</th>\n",
       "      <th>Year Type</th>\n",
       "      <th>Year</th>\n",
       "      <th>Organization Group Code</th>\n",
       "      <th>Organization Group</th>\n",
       "      <th>Department Code</th>\n",
       "      <th>Department</th>\n",
       "      <th>Union Code</th>\n",
       "      <th>Union</th>\n",
       "      <th>Job Family Code</th>\n",
       "      <th>Job Family</th>\n",
       "      <th>Job Code</th>\n",
       "      <th>Job</th>\n",
       "      <th>Employee Identifier</th>\n",
       "      <th>Overtime</th>\n",
       "      <th>Other Salaries</th>\n",
       "      <th>Retirement</th>\n",
       "      <th>Health/Dental</th>\n",
       "      <th>Other Benefits</th>\n",
       "      <th>Total Benefits</th>\n",
       "      <th>Class</th>\n",
       "    </tr>\n",
       "  </thead>\n",
       "  <tbody>\n",
       "    <tr>\n",
       "      <th>0</th>\n",
       "      <td>9248</td>\n",
       "      <td>Fiscal</td>\n",
       "      <td>2017</td>\n",
       "      <td>3</td>\n",
       "      <td>Human Welfare &amp; Neighborhood Development</td>\n",
       "      <td>DSS</td>\n",
       "      <td>HSA Human Services Agency</td>\n",
       "      <td>535</td>\n",
       "      <td>SEIU - Human Services, Local 1021</td>\n",
       "      <td>2900</td>\n",
       "      <td>Human Services</td>\n",
       "      <td>2905</td>\n",
       "      <td>Senior Eligibility Worker</td>\n",
       "      <td>41351</td>\n",
       "      <td>0.00</td>\n",
       "      <td>240.00</td>\n",
       "      <td>11896.36</td>\n",
       "      <td>13765.55</td>\n",
       "      <td>5248.43</td>\n",
       "      <td>30910.34</td>\n",
       "      <td>2</td>\n",
       "    </tr>\n",
       "    <tr>\n",
       "      <th>1</th>\n",
       "      <td>44541</td>\n",
       "      <td>Fiscal</td>\n",
       "      <td>2014</td>\n",
       "      <td>6</td>\n",
       "      <td>General Administration &amp; Finance</td>\n",
       "      <td>ASR</td>\n",
       "      <td>ASR Assessor / Recorder</td>\n",
       "      <td>21</td>\n",
       "      <td>Prof &amp; Tech Engineers - Miscellaneous, Local 21</td>\n",
       "      <td>4200</td>\n",
       "      <td>Appraisal &amp; Taxation</td>\n",
       "      <td>4222</td>\n",
       "      <td>Sr Personal Property Auditor</td>\n",
       "      <td>41792</td>\n",
       "      <td>0.00</td>\n",
       "      <td>400.00</td>\n",
       "      <td>15429.94</td>\n",
       "      <td>9337.37</td>\n",
       "      <td>5599.01</td>\n",
       "      <td>30366.32</td>\n",
       "      <td>2</td>\n",
       "    </tr>\n",
       "    <tr>\n",
       "      <th>2</th>\n",
       "      <td>47031</td>\n",
       "      <td>Fiscal</td>\n",
       "      <td>2014</td>\n",
       "      <td>3</td>\n",
       "      <td>Human Welfare &amp; Neighborhood Development</td>\n",
       "      <td>DSS</td>\n",
       "      <td>HSA Human Services Agency</td>\n",
       "      <td>535</td>\n",
       "      <td>SEIU - Human Services, Local 1021</td>\n",
       "      <td>2900</td>\n",
       "      <td>Human Services</td>\n",
       "      <td>2910</td>\n",
       "      <td>Social Worker</td>\n",
       "      <td>9357</td>\n",
       "      <td>0.00</td>\n",
       "      <td>1080.00</td>\n",
       "      <td>9682.00</td>\n",
       "      <td>8848.03</td>\n",
       "      <td>3463.92</td>\n",
       "      <td>21993.95</td>\n",
       "      <td>2</td>\n",
       "    </tr>\n",
       "    <tr>\n",
       "      <th>3</th>\n",
       "      <td>139416</td>\n",
       "      <td>Fiscal</td>\n",
       "      <td>2014</td>\n",
       "      <td>1</td>\n",
       "      <td>Public Protection</td>\n",
       "      <td>FIR</td>\n",
       "      <td>FIR Fire Department</td>\n",
       "      <td>798</td>\n",
       "      <td>Firefighters - Miscellaneous, Local 798</td>\n",
       "      <td>H000</td>\n",
       "      <td>Fire Services</td>\n",
       "      <td>H002</td>\n",
       "      <td>Firefighter</td>\n",
       "      <td>28022</td>\n",
       "      <td>25730.46</td>\n",
       "      <td>18414.18</td>\n",
       "      <td>24222.26</td>\n",
       "      <td>13911.13</td>\n",
       "      <td>2416.58</td>\n",
       "      <td>40549.97</td>\n",
       "      <td>3</td>\n",
       "    </tr>\n",
       "    <tr>\n",
       "      <th>4</th>\n",
       "      <td>123780</td>\n",
       "      <td>Fiscal</td>\n",
       "      <td>2013</td>\n",
       "      <td>2</td>\n",
       "      <td>Public Works, Transportation &amp; Commerce</td>\n",
       "      <td>MTA</td>\n",
       "      <td>MTA Municipal Transprtn Agncy</td>\n",
       "      <td>790</td>\n",
       "      <td>SEIU - Miscellaneous, Local 1021</td>\n",
       "      <td>1600</td>\n",
       "      <td>Payroll, Billing &amp; Accounting</td>\n",
       "      <td>1224</td>\n",
       "      <td>Pr Payroll &amp; Personnel Clerk</td>\n",
       "      <td>51052</td>\n",
       "      <td>1138.28</td>\n",
       "      <td>2148.11</td>\n",
       "      <td>15437.62</td>\n",
       "      <td>12828.15</td>\n",
       "      <td>7246.54</td>\n",
       "      <td>35512.31</td>\n",
       "      <td>3</td>\n",
       "    </tr>\n",
       "  </tbody>\n",
       "</table>\n",
       "</div>"
      ],
      "text/plain": [
       "       ID Year Type  Year  Organization Group Code  \\\n",
       "0    9248    Fiscal  2017                        3   \n",
       "1   44541    Fiscal  2014                        6   \n",
       "2   47031    Fiscal  2014                        3   \n",
       "3  139416    Fiscal  2014                        1   \n",
       "4  123780    Fiscal  2013                        2   \n",
       "\n",
       "                         Organization Group Department Code  \\\n",
       "0  Human Welfare & Neighborhood Development             DSS   \n",
       "1          General Administration & Finance             ASR   \n",
       "2  Human Welfare & Neighborhood Development             DSS   \n",
       "3                         Public Protection             FIR   \n",
       "4   Public Works, Transportation & Commerce             MTA   \n",
       "\n",
       "                      Department  Union Code  \\\n",
       "0      HSA Human Services Agency         535   \n",
       "1        ASR Assessor / Recorder          21   \n",
       "2      HSA Human Services Agency         535   \n",
       "3            FIR Fire Department         798   \n",
       "4  MTA Municipal Transprtn Agncy         790   \n",
       "\n",
       "                                             Union Job Family Code  \\\n",
       "0                SEIU - Human Services, Local 1021            2900   \n",
       "1  Prof & Tech Engineers - Miscellaneous, Local 21            4200   \n",
       "2                SEIU - Human Services, Local 1021            2900   \n",
       "3          Firefighters - Miscellaneous, Local 798            H000   \n",
       "4                 SEIU - Miscellaneous, Local 1021            1600   \n",
       "\n",
       "                      Job Family Job Code                           Job  \\\n",
       "0                 Human Services     2905     Senior Eligibility Worker   \n",
       "1           Appraisal & Taxation     4222  Sr Personal Property Auditor   \n",
       "2                 Human Services     2910                 Social Worker   \n",
       "3                  Fire Services     H002                   Firefighter   \n",
       "4  Payroll, Billing & Accounting     1224  Pr Payroll & Personnel Clerk   \n",
       "\n",
       "   Employee Identifier  Overtime  Other Salaries  Retirement  Health/Dental  \\\n",
       "0                41351      0.00          240.00    11896.36       13765.55   \n",
       "1                41792      0.00          400.00    15429.94        9337.37   \n",
       "2                 9357      0.00         1080.00     9682.00        8848.03   \n",
       "3                28022  25730.46        18414.18    24222.26       13911.13   \n",
       "4                51052   1138.28         2148.11    15437.62       12828.15   \n",
       "\n",
       "   Other Benefits  Total Benefits  Class  \n",
       "0         5248.43        30910.34      2  \n",
       "1         5599.01        30366.32      2  \n",
       "2         3463.92        21993.95      2  \n",
       "3         2416.58        40549.97      3  \n",
       "4         7246.54        35512.31      3  "
      ]
     },
     "execution_count": 5,
     "metadata": {},
     "output_type": "execute_result"
    }
   ],
   "source": [
    "train = pd.read_csv('train.csv')\n",
    "train.head()"
   ]
  },
  {
   "cell_type": "markdown",
   "metadata": {},
   "source": [
    "# Data Preperation"
   ]
  },
  {
   "cell_type": "code",
   "execution_count": 6,
   "metadata": {},
   "outputs": [],
   "source": [
    "test['Class'] = np.nan"
   ]
  },
  {
   "cell_type": "code",
   "execution_count": 7,
   "metadata": {},
   "outputs": [],
   "source": [
    "test['group'] = 'test'\n",
    "train['group'] = 'train'"
   ]
  },
  {
   "cell_type": "code",
   "execution_count": 8,
   "metadata": {},
   "outputs": [
    {
     "data": {
      "text/html": [
       "<div>\n",
       "<style scoped>\n",
       "    .dataframe tbody tr th:only-of-type {\n",
       "        vertical-align: middle;\n",
       "    }\n",
       "\n",
       "    .dataframe tbody tr th {\n",
       "        vertical-align: top;\n",
       "    }\n",
       "\n",
       "    .dataframe thead th {\n",
       "        text-align: right;\n",
       "    }\n",
       "</style>\n",
       "<table border=\"1\" class=\"dataframe\">\n",
       "  <thead>\n",
       "    <tr style=\"text-align: right;\">\n",
       "      <th></th>\n",
       "      <th>ID</th>\n",
       "      <th>Year Type</th>\n",
       "      <th>Year</th>\n",
       "      <th>Organization Group Code</th>\n",
       "      <th>Organization Group</th>\n",
       "      <th>Department Code</th>\n",
       "      <th>Department</th>\n",
       "      <th>Union Code</th>\n",
       "      <th>Union</th>\n",
       "      <th>Job Family Code</th>\n",
       "      <th>Job Family</th>\n",
       "      <th>Job Code</th>\n",
       "      <th>Job</th>\n",
       "      <th>Employee Identifier</th>\n",
       "      <th>Overtime</th>\n",
       "      <th>Other Salaries</th>\n",
       "      <th>Retirement</th>\n",
       "      <th>Health/Dental</th>\n",
       "      <th>Other Benefits</th>\n",
       "      <th>Total Benefits</th>\n",
       "      <th>Class</th>\n",
       "      <th>group</th>\n",
       "    </tr>\n",
       "  </thead>\n",
       "  <tbody>\n",
       "    <tr>\n",
       "      <th>0</th>\n",
       "      <td>9248</td>\n",
       "      <td>Fiscal</td>\n",
       "      <td>2017</td>\n",
       "      <td>3</td>\n",
       "      <td>Human Welfare &amp; Neighborhood Development</td>\n",
       "      <td>DSS</td>\n",
       "      <td>HSA Human Services Agency</td>\n",
       "      <td>535</td>\n",
       "      <td>SEIU - Human Services, Local 1021</td>\n",
       "      <td>2900</td>\n",
       "      <td>Human Services</td>\n",
       "      <td>2905</td>\n",
       "      <td>Senior Eligibility Worker</td>\n",
       "      <td>41351</td>\n",
       "      <td>0.00</td>\n",
       "      <td>240.00</td>\n",
       "      <td>11896.36</td>\n",
       "      <td>13765.55</td>\n",
       "      <td>5248.43</td>\n",
       "      <td>30910.34</td>\n",
       "      <td>2.0</td>\n",
       "      <td>train</td>\n",
       "    </tr>\n",
       "    <tr>\n",
       "      <th>1</th>\n",
       "      <td>44541</td>\n",
       "      <td>Fiscal</td>\n",
       "      <td>2014</td>\n",
       "      <td>6</td>\n",
       "      <td>General Administration &amp; Finance</td>\n",
       "      <td>ASR</td>\n",
       "      <td>ASR Assessor / Recorder</td>\n",
       "      <td>21</td>\n",
       "      <td>Prof &amp; Tech Engineers - Miscellaneous, Local 21</td>\n",
       "      <td>4200</td>\n",
       "      <td>Appraisal &amp; Taxation</td>\n",
       "      <td>4222</td>\n",
       "      <td>Sr Personal Property Auditor</td>\n",
       "      <td>41792</td>\n",
       "      <td>0.00</td>\n",
       "      <td>400.00</td>\n",
       "      <td>15429.94</td>\n",
       "      <td>9337.37</td>\n",
       "      <td>5599.01</td>\n",
       "      <td>30366.32</td>\n",
       "      <td>2.0</td>\n",
       "      <td>train</td>\n",
       "    </tr>\n",
       "    <tr>\n",
       "      <th>2</th>\n",
       "      <td>47031</td>\n",
       "      <td>Fiscal</td>\n",
       "      <td>2014</td>\n",
       "      <td>3</td>\n",
       "      <td>Human Welfare &amp; Neighborhood Development</td>\n",
       "      <td>DSS</td>\n",
       "      <td>HSA Human Services Agency</td>\n",
       "      <td>535</td>\n",
       "      <td>SEIU - Human Services, Local 1021</td>\n",
       "      <td>2900</td>\n",
       "      <td>Human Services</td>\n",
       "      <td>2910</td>\n",
       "      <td>Social Worker</td>\n",
       "      <td>9357</td>\n",
       "      <td>0.00</td>\n",
       "      <td>1080.00</td>\n",
       "      <td>9682.00</td>\n",
       "      <td>8848.03</td>\n",
       "      <td>3463.92</td>\n",
       "      <td>21993.95</td>\n",
       "      <td>2.0</td>\n",
       "      <td>train</td>\n",
       "    </tr>\n",
       "    <tr>\n",
       "      <th>3</th>\n",
       "      <td>139416</td>\n",
       "      <td>Fiscal</td>\n",
       "      <td>2014</td>\n",
       "      <td>1</td>\n",
       "      <td>Public Protection</td>\n",
       "      <td>FIR</td>\n",
       "      <td>FIR Fire Department</td>\n",
       "      <td>798</td>\n",
       "      <td>Firefighters - Miscellaneous, Local 798</td>\n",
       "      <td>H000</td>\n",
       "      <td>Fire Services</td>\n",
       "      <td>H002</td>\n",
       "      <td>Firefighter</td>\n",
       "      <td>28022</td>\n",
       "      <td>25730.46</td>\n",
       "      <td>18414.18</td>\n",
       "      <td>24222.26</td>\n",
       "      <td>13911.13</td>\n",
       "      <td>2416.58</td>\n",
       "      <td>40549.97</td>\n",
       "      <td>3.0</td>\n",
       "      <td>train</td>\n",
       "    </tr>\n",
       "    <tr>\n",
       "      <th>4</th>\n",
       "      <td>123780</td>\n",
       "      <td>Fiscal</td>\n",
       "      <td>2013</td>\n",
       "      <td>2</td>\n",
       "      <td>Public Works, Transportation &amp; Commerce</td>\n",
       "      <td>MTA</td>\n",
       "      <td>MTA Municipal Transprtn Agncy</td>\n",
       "      <td>790</td>\n",
       "      <td>SEIU - Miscellaneous, Local 1021</td>\n",
       "      <td>1600</td>\n",
       "      <td>Payroll, Billing &amp; Accounting</td>\n",
       "      <td>1224</td>\n",
       "      <td>Pr Payroll &amp; Personnel Clerk</td>\n",
       "      <td>51052</td>\n",
       "      <td>1138.28</td>\n",
       "      <td>2148.11</td>\n",
       "      <td>15437.62</td>\n",
       "      <td>12828.15</td>\n",
       "      <td>7246.54</td>\n",
       "      <td>35512.31</td>\n",
       "      <td>3.0</td>\n",
       "      <td>train</td>\n",
       "    </tr>\n",
       "  </tbody>\n",
       "</table>\n",
       "</div>"
      ],
      "text/plain": [
       "       ID Year Type  Year  Organization Group Code  \\\n",
       "0    9248    Fiscal  2017                        3   \n",
       "1   44541    Fiscal  2014                        6   \n",
       "2   47031    Fiscal  2014                        3   \n",
       "3  139416    Fiscal  2014                        1   \n",
       "4  123780    Fiscal  2013                        2   \n",
       "\n",
       "                         Organization Group Department Code  \\\n",
       "0  Human Welfare & Neighborhood Development             DSS   \n",
       "1          General Administration & Finance             ASR   \n",
       "2  Human Welfare & Neighborhood Development             DSS   \n",
       "3                         Public Protection             FIR   \n",
       "4   Public Works, Transportation & Commerce             MTA   \n",
       "\n",
       "                      Department  Union Code  \\\n",
       "0      HSA Human Services Agency         535   \n",
       "1        ASR Assessor / Recorder          21   \n",
       "2      HSA Human Services Agency         535   \n",
       "3            FIR Fire Department         798   \n",
       "4  MTA Municipal Transprtn Agncy         790   \n",
       "\n",
       "                                             Union Job Family Code  \\\n",
       "0                SEIU - Human Services, Local 1021            2900   \n",
       "1  Prof & Tech Engineers - Miscellaneous, Local 21            4200   \n",
       "2                SEIU - Human Services, Local 1021            2900   \n",
       "3          Firefighters - Miscellaneous, Local 798            H000   \n",
       "4                 SEIU - Miscellaneous, Local 1021            1600   \n",
       "\n",
       "                      Job Family Job Code                           Job  \\\n",
       "0                 Human Services     2905     Senior Eligibility Worker   \n",
       "1           Appraisal & Taxation     4222  Sr Personal Property Auditor   \n",
       "2                 Human Services     2910                 Social Worker   \n",
       "3                  Fire Services     H002                   Firefighter   \n",
       "4  Payroll, Billing & Accounting     1224  Pr Payroll & Personnel Clerk   \n",
       "\n",
       "   Employee Identifier  Overtime  Other Salaries  Retirement  Health/Dental  \\\n",
       "0                41351      0.00          240.00    11896.36       13765.55   \n",
       "1                41792      0.00          400.00    15429.94        9337.37   \n",
       "2                 9357      0.00         1080.00     9682.00        8848.03   \n",
       "3                28022  25730.46        18414.18    24222.26       13911.13   \n",
       "4                51052   1138.28         2148.11    15437.62       12828.15   \n",
       "\n",
       "   Other Benefits  Total Benefits  Class  group  \n",
       "0         5248.43        30910.34    2.0  train  \n",
       "1         5599.01        30366.32    2.0  train  \n",
       "2         3463.92        21993.95    2.0  train  \n",
       "3         2416.58        40549.97    3.0  train  \n",
       "4         7246.54        35512.31    3.0  train  "
      ]
     },
     "execution_count": 8,
     "metadata": {},
     "output_type": "execute_result"
    }
   ],
   "source": [
    "all = pd.concat((train,test))\n",
    "all.head()"
   ]
  },
  {
   "cell_type": "code",
   "execution_count": 9,
   "metadata": {},
   "outputs": [
    {
     "data": {
      "text/plain": [
       "(212982, 22)"
      ]
     },
     "execution_count": 9,
     "metadata": {},
     "output_type": "execute_result"
    }
   ],
   "source": [
    "all.shape"
   ]
  },
  {
   "cell_type": "code",
   "execution_count": 10,
   "metadata": {},
   "outputs": [
    {
     "data": {
      "text/plain": [
       "(1146,)"
      ]
     },
     "execution_count": 10,
     "metadata": {},
     "output_type": "execute_result"
    }
   ],
   "source": [
    "train['Job'].unique().shape"
   ]
  },
  {
   "cell_type": "code",
   "execution_count": 11,
   "metadata": {},
   "outputs": [
    {
     "data": {
      "text/plain": [
       "(1141,)"
      ]
     },
     "execution_count": 11,
     "metadata": {},
     "output_type": "execute_result"
    }
   ],
   "source": [
    "train['Job Code'].unique().shape"
   ]
  },
  {
   "cell_type": "code",
   "execution_count": 12,
   "metadata": {},
   "outputs": [
    {
     "data": {
      "text/plain": [
       "(62,)"
      ]
     },
     "execution_count": 12,
     "metadata": {},
     "output_type": "execute_result"
    }
   ],
   "source": [
    "train['Job Family Code'].unique().shape"
   ]
  },
  {
   "cell_type": "code",
   "execution_count": 13,
   "metadata": {},
   "outputs": [
    {
     "data": {
      "text/plain": [
       "(57,)"
      ]
     },
     "execution_count": 13,
     "metadata": {},
     "output_type": "execute_result"
    }
   ],
   "source": [
    "train['Job Family'].unique().shape"
   ]
  },
  {
   "cell_type": "code",
   "execution_count": 14,
   "metadata": {
    "scrolled": true
   },
   "outputs": [
    {
     "data": {
      "text/plain": [
       "(69,)"
      ]
     },
     "execution_count": 14,
     "metadata": {},
     "output_type": "execute_result"
    }
   ],
   "source": [
    "train['Union Code'].unique().shape"
   ]
  },
  {
   "cell_type": "code",
   "execution_count": 15,
   "metadata": {
    "scrolled": true
   },
   "outputs": [
    {
     "data": {
      "text/plain": [
       "(77,)"
      ]
     },
     "execution_count": 15,
     "metadata": {},
     "output_type": "execute_result"
    }
   ],
   "source": [
    "train['Union'].unique().shape"
   ]
  },
  {
   "cell_type": "code",
   "execution_count": 16,
   "metadata": {},
   "outputs": [
    {
     "name": "stdout",
     "output_type": "stream",
     "text": [
      "<class 'pandas.core.frame.DataFrame'>\n",
      "RangeIndex: 149087 entries, 0 to 149086\n",
      "Data columns (total 22 columns):\n",
      "ID                         149087 non-null int64\n",
      "Year Type                  149087 non-null object\n",
      "Year                       149087 non-null int64\n",
      "Organization Group Code    149087 non-null int64\n",
      "Organization Group         149087 non-null object\n",
      "Department Code            149087 non-null object\n",
      "Department                 149087 non-null object\n",
      "Union Code                 149087 non-null int64\n",
      "Union                      149087 non-null object\n",
      "Job Family Code            149087 non-null object\n",
      "Job Family                 149087 non-null object\n",
      "Job Code                   149087 non-null object\n",
      "Job                        149087 non-null object\n",
      "Employee Identifier        149087 non-null int64\n",
      "Overtime                   149087 non-null float64\n",
      "Other Salaries             149087 non-null float64\n",
      "Retirement                 149087 non-null float64\n",
      "Health/Dental              149087 non-null float64\n",
      "Other Benefits             149087 non-null float64\n",
      "Total Benefits             149087 non-null float64\n",
      "Class                      149087 non-null int64\n",
      "group                      149087 non-null object\n",
      "dtypes: float64(6), int64(6), object(10)\n",
      "memory usage: 25.0+ MB\n"
     ]
    }
   ],
   "source": [
    "train.info()"
   ]
  },
  {
   "cell_type": "code",
   "execution_count": 17,
   "metadata": {},
   "outputs": [
    {
     "data": {
      "text/plain": [
       "ID                         0\n",
       "Year Type                  0\n",
       "Year                       0\n",
       "Organization Group Code    0\n",
       "Organization Group         0\n",
       "Department Code            0\n",
       "Department                 0\n",
       "Union Code                 0\n",
       "Union                      0\n",
       "Job Family Code            0\n",
       "Job Family                 0\n",
       "Job Code                   0\n",
       "Job                        0\n",
       "Employee Identifier        0\n",
       "Overtime                   0\n",
       "Other Salaries             0\n",
       "Retirement                 0\n",
       "Health/Dental              0\n",
       "Other Benefits             0\n",
       "Total Benefits             0\n",
       "Class                      0\n",
       "group                      0\n",
       "dtype: int64"
      ]
     },
     "execution_count": 17,
     "metadata": {},
     "output_type": "execute_result"
    }
   ],
   "source": [
    "train.isnull().sum()"
   ]
  },
  {
   "cell_type": "code",
   "execution_count": 18,
   "metadata": {},
   "outputs": [
    {
     "data": {
      "text/plain": [
       "array([2, 3, 1], dtype=int64)"
      ]
     },
     "execution_count": 18,
     "metadata": {},
     "output_type": "execute_result"
    }
   ],
   "source": [
    "train['Class'].unique()"
   ]
  },
  {
   "cell_type": "code",
   "execution_count": 19,
   "metadata": {},
   "outputs": [
    {
     "data": {
      "text/plain": [
       "array([2017, 2014, 2013, 2016, 2015], dtype=int64)"
      ]
     },
     "execution_count": 19,
     "metadata": {},
     "output_type": "execute_result"
    }
   ],
   "source": [
    "train['Year'].unique()"
   ]
  },
  {
   "cell_type": "code",
   "execution_count": 20,
   "metadata": {},
   "outputs": [
    {
     "data": {
      "text/html": [
       "<div>\n",
       "<style scoped>\n",
       "    .dataframe tbody tr th:only-of-type {\n",
       "        vertical-align: middle;\n",
       "    }\n",
       "\n",
       "    .dataframe tbody tr th {\n",
       "        vertical-align: top;\n",
       "    }\n",
       "\n",
       "    .dataframe thead th {\n",
       "        text-align: right;\n",
       "    }\n",
       "</style>\n",
       "<table border=\"1\" class=\"dataframe\">\n",
       "  <thead>\n",
       "    <tr style=\"text-align: right;\">\n",
       "      <th></th>\n",
       "      <th>ID</th>\n",
       "      <th>Year Type</th>\n",
       "      <th>Year</th>\n",
       "      <th>Organization Group Code</th>\n",
       "      <th>Organization Group</th>\n",
       "      <th>Department Code</th>\n",
       "      <th>Department</th>\n",
       "      <th>Union Code</th>\n",
       "      <th>Union</th>\n",
       "      <th>Job Family Code</th>\n",
       "      <th>Job Family</th>\n",
       "      <th>Job Code</th>\n",
       "      <th>Job</th>\n",
       "      <th>Employee Identifier</th>\n",
       "      <th>Overtime</th>\n",
       "      <th>Other Salaries</th>\n",
       "      <th>Retirement</th>\n",
       "      <th>Health/Dental</th>\n",
       "      <th>Other Benefits</th>\n",
       "      <th>Total Benefits</th>\n",
       "      <th>Class</th>\n",
       "      <th>group</th>\n",
       "    </tr>\n",
       "  </thead>\n",
       "  <tbody>\n",
       "    <tr>\n",
       "      <th>0</th>\n",
       "      <td>9248</td>\n",
       "      <td>Fiscal</td>\n",
       "      <td>2017</td>\n",
       "      <td>3</td>\n",
       "      <td>Human Welfare &amp; Neighborhood Development</td>\n",
       "      <td>DSS</td>\n",
       "      <td>HSA Human Services Agency</td>\n",
       "      <td>535</td>\n",
       "      <td>SEIU - Human Services, Local 1021</td>\n",
       "      <td>2900</td>\n",
       "      <td>Human Services</td>\n",
       "      <td>2905</td>\n",
       "      <td>Senior Eligibility Worker</td>\n",
       "      <td>41351</td>\n",
       "      <td>0.0</td>\n",
       "      <td>240.0</td>\n",
       "      <td>11896.36</td>\n",
       "      <td>13765.55</td>\n",
       "      <td>5248.43</td>\n",
       "      <td>30910.34</td>\n",
       "      <td>2.0</td>\n",
       "      <td>train</td>\n",
       "    </tr>\n",
       "  </tbody>\n",
       "</table>\n",
       "</div>"
      ],
      "text/plain": [
       "     ID Year Type  Year  Organization Group Code  \\\n",
       "0  9248    Fiscal  2017                        3   \n",
       "\n",
       "                         Organization Group Department Code  \\\n",
       "0  Human Welfare & Neighborhood Development             DSS   \n",
       "\n",
       "                  Department  Union Code                              Union  \\\n",
       "0  HSA Human Services Agency         535  SEIU - Human Services, Local 1021   \n",
       "\n",
       "  Job Family Code      Job Family Job Code                        Job  \\\n",
       "0            2900  Human Services     2905  Senior Eligibility Worker   \n",
       "\n",
       "   Employee Identifier  Overtime  Other Salaries  Retirement  Health/Dental  \\\n",
       "0                41351       0.0           240.0    11896.36       13765.55   \n",
       "\n",
       "   Other Benefits  Total Benefits  Class  group  \n",
       "0         5248.43        30910.34    2.0  train  "
      ]
     },
     "execution_count": 20,
     "metadata": {},
     "output_type": "execute_result"
    }
   ],
   "source": [
    "all.head(1)"
   ]
  },
  {
   "cell_type": "code",
   "execution_count": 21,
   "metadata": {},
   "outputs": [
    {
     "data": {
      "text/plain": [
       "array([3, 6, 1, 2, 4, 5, 7], dtype=int64)"
      ]
     },
     "execution_count": 21,
     "metadata": {},
     "output_type": "execute_result"
    }
   ],
   "source": [
    "train['Organization Group Code'].unique()"
   ]
  },
  {
   "cell_type": "code",
   "execution_count": 22,
   "metadata": {},
   "outputs": [],
   "source": [
    "col = ['ID','Year','Organization Group Code','Department Code','Union Code',\\\n",
    "       'Job Family Code','Job Code','Overtime','Other Salaries',\\\n",
    "       'Retirement','Health/Dental','Other Benefits','Class','group']"
   ]
  },
  {
   "cell_type": "code",
   "execution_count": 23,
   "metadata": {},
   "outputs": [
    {
     "data": {
      "text/html": [
       "<div>\n",
       "<style scoped>\n",
       "    .dataframe tbody tr th:only-of-type {\n",
       "        vertical-align: middle;\n",
       "    }\n",
       "\n",
       "    .dataframe tbody tr th {\n",
       "        vertical-align: top;\n",
       "    }\n",
       "\n",
       "    .dataframe thead th {\n",
       "        text-align: right;\n",
       "    }\n",
       "</style>\n",
       "<table border=\"1\" class=\"dataframe\">\n",
       "  <thead>\n",
       "    <tr style=\"text-align: right;\">\n",
       "      <th></th>\n",
       "      <th>ID</th>\n",
       "      <th>Year</th>\n",
       "      <th>Organization Group Code</th>\n",
       "      <th>Department Code</th>\n",
       "      <th>Union Code</th>\n",
       "      <th>Job Family Code</th>\n",
       "      <th>Job Code</th>\n",
       "      <th>Overtime</th>\n",
       "      <th>Other Salaries</th>\n",
       "      <th>Retirement</th>\n",
       "      <th>Health/Dental</th>\n",
       "      <th>Other Benefits</th>\n",
       "      <th>Class</th>\n",
       "      <th>group</th>\n",
       "    </tr>\n",
       "  </thead>\n",
       "  <tbody>\n",
       "    <tr>\n",
       "      <th>0</th>\n",
       "      <td>9248</td>\n",
       "      <td>2017</td>\n",
       "      <td>3</td>\n",
       "      <td>DSS</td>\n",
       "      <td>535</td>\n",
       "      <td>2900</td>\n",
       "      <td>2905</td>\n",
       "      <td>0.00</td>\n",
       "      <td>240.00</td>\n",
       "      <td>11896.36</td>\n",
       "      <td>13765.55</td>\n",
       "      <td>5248.43</td>\n",
       "      <td>2.0</td>\n",
       "      <td>train</td>\n",
       "    </tr>\n",
       "    <tr>\n",
       "      <th>1</th>\n",
       "      <td>44541</td>\n",
       "      <td>2014</td>\n",
       "      <td>6</td>\n",
       "      <td>ASR</td>\n",
       "      <td>21</td>\n",
       "      <td>4200</td>\n",
       "      <td>4222</td>\n",
       "      <td>0.00</td>\n",
       "      <td>400.00</td>\n",
       "      <td>15429.94</td>\n",
       "      <td>9337.37</td>\n",
       "      <td>5599.01</td>\n",
       "      <td>2.0</td>\n",
       "      <td>train</td>\n",
       "    </tr>\n",
       "    <tr>\n",
       "      <th>2</th>\n",
       "      <td>47031</td>\n",
       "      <td>2014</td>\n",
       "      <td>3</td>\n",
       "      <td>DSS</td>\n",
       "      <td>535</td>\n",
       "      <td>2900</td>\n",
       "      <td>2910</td>\n",
       "      <td>0.00</td>\n",
       "      <td>1080.00</td>\n",
       "      <td>9682.00</td>\n",
       "      <td>8848.03</td>\n",
       "      <td>3463.92</td>\n",
       "      <td>2.0</td>\n",
       "      <td>train</td>\n",
       "    </tr>\n",
       "    <tr>\n",
       "      <th>3</th>\n",
       "      <td>139416</td>\n",
       "      <td>2014</td>\n",
       "      <td>1</td>\n",
       "      <td>FIR</td>\n",
       "      <td>798</td>\n",
       "      <td>H000</td>\n",
       "      <td>H002</td>\n",
       "      <td>25730.46</td>\n",
       "      <td>18414.18</td>\n",
       "      <td>24222.26</td>\n",
       "      <td>13911.13</td>\n",
       "      <td>2416.58</td>\n",
       "      <td>3.0</td>\n",
       "      <td>train</td>\n",
       "    </tr>\n",
       "    <tr>\n",
       "      <th>4</th>\n",
       "      <td>123780</td>\n",
       "      <td>2013</td>\n",
       "      <td>2</td>\n",
       "      <td>MTA</td>\n",
       "      <td>790</td>\n",
       "      <td>1600</td>\n",
       "      <td>1224</td>\n",
       "      <td>1138.28</td>\n",
       "      <td>2148.11</td>\n",
       "      <td>15437.62</td>\n",
       "      <td>12828.15</td>\n",
       "      <td>7246.54</td>\n",
       "      <td>3.0</td>\n",
       "      <td>train</td>\n",
       "    </tr>\n",
       "  </tbody>\n",
       "</table>\n",
       "</div>"
      ],
      "text/plain": [
       "       ID  Year  Organization Group Code Department Code  Union Code  \\\n",
       "0    9248  2017                        3             DSS         535   \n",
       "1   44541  2014                        6             ASR          21   \n",
       "2   47031  2014                        3             DSS         535   \n",
       "3  139416  2014                        1             FIR         798   \n",
       "4  123780  2013                        2             MTA         790   \n",
       "\n",
       "  Job Family Code Job Code  Overtime  Other Salaries  Retirement  \\\n",
       "0            2900     2905      0.00          240.00    11896.36   \n",
       "1            4200     4222      0.00          400.00    15429.94   \n",
       "2            2900     2910      0.00         1080.00     9682.00   \n",
       "3            H000     H002  25730.46        18414.18    24222.26   \n",
       "4            1600     1224   1138.28         2148.11    15437.62   \n",
       "\n",
       "   Health/Dental  Other Benefits  Class  group  \n",
       "0       13765.55         5248.43    2.0  train  \n",
       "1        9337.37         5599.01    2.0  train  \n",
       "2        8848.03         3463.92    2.0  train  \n",
       "3       13911.13         2416.58    3.0  train  \n",
       "4       12828.15         7246.54    3.0  train  "
      ]
     },
     "execution_count": 23,
     "metadata": {},
     "output_type": "execute_result"
    }
   ],
   "source": [
    "data = all[col]\n",
    "data.head()"
   ]
  },
  {
   "cell_type": "code",
   "execution_count": 24,
   "metadata": {},
   "outputs": [
    {
     "data": {
      "text/plain": [
       "(212982, 14)"
      ]
     },
     "execution_count": 24,
     "metadata": {},
     "output_type": "execute_result"
    }
   ],
   "source": [
    "data.shape"
   ]
  },
  {
   "cell_type": "code",
   "execution_count": 27,
   "metadata": {},
   "outputs": [],
   "source": [
    "from sklearn.preprocessing import LabelEncoder"
   ]
  },
  {
   "cell_type": "code",
   "execution_count": 28,
   "metadata": {},
   "outputs": [
    {
     "name": "stderr",
     "output_type": "stream",
     "text": [
      "C:\\Users\\Amala\\Anaconda3\\lib\\site-packages\\ipykernel_launcher.py:1: SettingWithCopyWarning: \n",
      "A value is trying to be set on a copy of a slice from a DataFrame.\n",
      "Try using .loc[row_indexer,col_indexer] = value instead\n",
      "\n",
      "See the caveats in the documentation: http://pandas.pydata.org/pandas-docs/stable/indexing.html#indexing-view-versus-copy\n",
      "  \"\"\"Entry point for launching an IPython kernel.\n",
      "C:\\Users\\Amala\\Anaconda3\\lib\\site-packages\\ipykernel_launcher.py:2: SettingWithCopyWarning: \n",
      "A value is trying to be set on a copy of a slice from a DataFrame.\n",
      "Try using .loc[row_indexer,col_indexer] = value instead\n",
      "\n",
      "See the caveats in the documentation: http://pandas.pydata.org/pandas-docs/stable/indexing.html#indexing-view-versus-copy\n",
      "  \n",
      "C:\\Users\\Amala\\Anaconda3\\lib\\site-packages\\ipykernel_launcher.py:3: SettingWithCopyWarning: \n",
      "A value is trying to be set on a copy of a slice from a DataFrame.\n",
      "Try using .loc[row_indexer,col_indexer] = value instead\n",
      "\n",
      "See the caveats in the documentation: http://pandas.pydata.org/pandas-docs/stable/indexing.html#indexing-view-versus-copy\n",
      "  This is separate from the ipykernel package so we can avoid doing imports until\n",
      "C:\\Users\\Amala\\Anaconda3\\lib\\site-packages\\ipykernel_launcher.py:4: SettingWithCopyWarning: \n",
      "A value is trying to be set on a copy of a slice from a DataFrame.\n",
      "Try using .loc[row_indexer,col_indexer] = value instead\n",
      "\n",
      "See the caveats in the documentation: http://pandas.pydata.org/pandas-docs/stable/indexing.html#indexing-view-versus-copy\n",
      "  after removing the cwd from sys.path.\n",
      "C:\\Users\\Amala\\Anaconda3\\lib\\site-packages\\ipykernel_launcher.py:5: SettingWithCopyWarning: \n",
      "A value is trying to be set on a copy of a slice from a DataFrame.\n",
      "Try using .loc[row_indexer,col_indexer] = value instead\n",
      "\n",
      "See the caveats in the documentation: http://pandas.pydata.org/pandas-docs/stable/indexing.html#indexing-view-versus-copy\n",
      "  \"\"\"\n"
     ]
    }
   ],
   "source": [
    "data['Year'] = LabelEncoder().fit_transform(data['Year'])\n",
    "data['Department Code'] = LabelEncoder().fit_transform(data['Department Code']) \n",
    "data['Job Code'] = LabelEncoder().fit_transform(data['Job Code']) \n",
    "data['Job Family Code'] = LabelEncoder().fit_transform(data['Job Family Code']) \n",
    "data['Union Code'] = LabelEncoder().fit_transform(data['Union Code']) "
   ]
  },
  {
   "cell_type": "code",
   "execution_count": 29,
   "metadata": {
    "scrolled": true
   },
   "outputs": [
    {
     "data": {
      "text/html": [
       "<div>\n",
       "<style scoped>\n",
       "    .dataframe tbody tr th:only-of-type {\n",
       "        vertical-align: middle;\n",
       "    }\n",
       "\n",
       "    .dataframe tbody tr th {\n",
       "        vertical-align: top;\n",
       "    }\n",
       "\n",
       "    .dataframe thead th {\n",
       "        text-align: right;\n",
       "    }\n",
       "</style>\n",
       "<table border=\"1\" class=\"dataframe\">\n",
       "  <thead>\n",
       "    <tr style=\"text-align: right;\">\n",
       "      <th></th>\n",
       "      <th>ID</th>\n",
       "      <th>Year</th>\n",
       "      <th>Organization Group Code</th>\n",
       "      <th>Department Code</th>\n",
       "      <th>Union Code</th>\n",
       "      <th>Job Family Code</th>\n",
       "      <th>Job Code</th>\n",
       "      <th>Overtime</th>\n",
       "      <th>Other Salaries</th>\n",
       "      <th>Retirement</th>\n",
       "      <th>Health/Dental</th>\n",
       "      <th>Other Benefits</th>\n",
       "      <th>Class</th>\n",
       "      <th>group</th>\n",
       "    </tr>\n",
       "  </thead>\n",
       "  <tbody>\n",
       "    <tr>\n",
       "      <th>0</th>\n",
       "      <td>9248</td>\n",
       "      <td>4</td>\n",
       "      <td>3</td>\n",
       "      <td>22</td>\n",
       "      <td>48</td>\n",
       "      <td>18</td>\n",
       "      <td>378</td>\n",
       "      <td>0.00</td>\n",
       "      <td>240.00</td>\n",
       "      <td>11896.36</td>\n",
       "      <td>13765.55</td>\n",
       "      <td>5248.43</td>\n",
       "      <td>2.0</td>\n",
       "      <td>train</td>\n",
       "    </tr>\n",
       "    <tr>\n",
       "      <th>1</th>\n",
       "      <td>44541</td>\n",
       "      <td>1</td>\n",
       "      <td>6</td>\n",
       "      <td>5</td>\n",
       "      <td>8</td>\n",
       "      <td>25</td>\n",
       "      <td>515</td>\n",
       "      <td>0.00</td>\n",
       "      <td>400.00</td>\n",
       "      <td>15429.94</td>\n",
       "      <td>9337.37</td>\n",
       "      <td>5599.01</td>\n",
       "      <td>2.0</td>\n",
       "      <td>train</td>\n",
       "    </tr>\n",
       "    <tr>\n",
       "      <th>2</th>\n",
       "      <td>47031</td>\n",
       "      <td>1</td>\n",
       "      <td>3</td>\n",
       "      <td>22</td>\n",
       "      <td>48</td>\n",
       "      <td>18</td>\n",
       "      <td>382</td>\n",
       "      <td>0.00</td>\n",
       "      <td>1080.00</td>\n",
       "      <td>9682.00</td>\n",
       "      <td>8848.03</td>\n",
       "      <td>3463.92</td>\n",
       "      <td>2.0</td>\n",
       "      <td>train</td>\n",
       "    </tr>\n",
       "    <tr>\n",
       "      <th>3</th>\n",
       "      <td>139416</td>\n",
       "      <td>1</td>\n",
       "      <td>1</td>\n",
       "      <td>28</td>\n",
       "      <td>58</td>\n",
       "      <td>54</td>\n",
       "      <td>1106</td>\n",
       "      <td>25730.46</td>\n",
       "      <td>18414.18</td>\n",
       "      <td>24222.26</td>\n",
       "      <td>13911.13</td>\n",
       "      <td>2416.58</td>\n",
       "      <td>3.0</td>\n",
       "      <td>train</td>\n",
       "    </tr>\n",
       "    <tr>\n",
       "      <th>4</th>\n",
       "      <td>123780</td>\n",
       "      <td>0</td>\n",
       "      <td>2</td>\n",
       "      <td>37</td>\n",
       "      <td>54</td>\n",
       "      <td>6</td>\n",
       "      <td>60</td>\n",
       "      <td>1138.28</td>\n",
       "      <td>2148.11</td>\n",
       "      <td>15437.62</td>\n",
       "      <td>12828.15</td>\n",
       "      <td>7246.54</td>\n",
       "      <td>3.0</td>\n",
       "      <td>train</td>\n",
       "    </tr>\n",
       "  </tbody>\n",
       "</table>\n",
       "</div>"
      ],
      "text/plain": [
       "       ID  Year  Organization Group Code  Department Code  Union Code  \\\n",
       "0    9248     4                        3               22          48   \n",
       "1   44541     1                        6                5           8   \n",
       "2   47031     1                        3               22          48   \n",
       "3  139416     1                        1               28          58   \n",
       "4  123780     0                        2               37          54   \n",
       "\n",
       "   Job Family Code  Job Code  Overtime  Other Salaries  Retirement  \\\n",
       "0               18       378      0.00          240.00    11896.36   \n",
       "1               25       515      0.00          400.00    15429.94   \n",
       "2               18       382      0.00         1080.00     9682.00   \n",
       "3               54      1106  25730.46        18414.18    24222.26   \n",
       "4                6        60   1138.28         2148.11    15437.62   \n",
       "\n",
       "   Health/Dental  Other Benefits  Class  group  \n",
       "0       13765.55         5248.43    2.0  train  \n",
       "1        9337.37         5599.01    2.0  train  \n",
       "2        8848.03         3463.92    2.0  train  \n",
       "3       13911.13         2416.58    3.0  train  \n",
       "4       12828.15         7246.54    3.0  train  "
      ]
     },
     "execution_count": 29,
     "metadata": {},
     "output_type": "execute_result"
    }
   ],
   "source": [
    "data.head()"
   ]
  },
  {
   "cell_type": "code",
   "execution_count": 30,
   "metadata": {},
   "outputs": [],
   "source": [
    "data = data[(data['Other Salaries']>=0)&(data['Overtime']>=0)&(data['Retirement']>=0)&(data['Health/Dental']>=0)&(data['Other Benefits']>=0)]"
   ]
  },
  {
   "cell_type": "markdown",
   "metadata": {},
   "source": [
    "# Scaling"
   ]
  },
  {
   "cell_type": "code",
   "execution_count": 31,
   "metadata": {},
   "outputs": [],
   "source": [
    "from sklearn.preprocessing import StandardScaler\n",
    "sc = StandardScaler()"
   ]
  },
  {
   "cell_type": "code",
   "execution_count": 32,
   "metadata": {},
   "outputs": [
    {
     "data": {
      "text/plain": [
       "(212127, 14)"
      ]
     },
     "execution_count": 32,
     "metadata": {},
     "output_type": "execute_result"
    }
   ],
   "source": [
    "data.shape"
   ]
  },
  {
   "cell_type": "code",
   "execution_count": 33,
   "metadata": {},
   "outputs": [],
   "source": [
    "train = data[data['group']=='train']\n",
    "test = data[data['group']=='test']"
   ]
  },
  {
   "cell_type": "code",
   "execution_count": 34,
   "metadata": {},
   "outputs": [
    {
     "name": "stderr",
     "output_type": "stream",
     "text": [
      "C:\\Users\\Amala\\Anaconda3\\lib\\site-packages\\pandas\\core\\frame.py:3940: SettingWithCopyWarning: \n",
      "A value is trying to be set on a copy of a slice from a DataFrame\n",
      "\n",
      "See the caveats in the documentation: http://pandas.pydata.org/pandas-docs/stable/indexing.html#indexing-view-versus-copy\n",
      "  errors=errors)\n"
     ]
    }
   ],
   "source": [
    "train.drop('group',axis=1,inplace=True)"
   ]
  },
  {
   "cell_type": "code",
   "execution_count": 35,
   "metadata": {},
   "outputs": [],
   "source": [
    "test.drop(['Class','group'],axis=1,inplace=True)"
   ]
  },
  {
   "cell_type": "code",
   "execution_count": 36,
   "metadata": {},
   "outputs": [],
   "source": [
    "x = train.drop('Class',axis=1)\n",
    "y = train['Class']"
   ]
  },
  {
   "cell_type": "code",
   "execution_count": 37,
   "metadata": {},
   "outputs": [],
   "source": [
    "xtrain,xval,ytrain,yval = train_test_split(x,y,test_size=0.3,random_state=0)"
   ]
  },
  {
   "cell_type": "markdown",
   "metadata": {},
   "source": [
    "# Decision Tree"
   ]
  },
  {
   "cell_type": "code",
   "execution_count": 38,
   "metadata": {
    "scrolled": false
   },
   "outputs": [
    {
     "data": {
      "text/plain": [
       "DecisionTreeClassifier(class_weight=None, criterion='gini', max_depth=3,\n",
       "            max_features=None, max_leaf_nodes=None,\n",
       "            min_impurity_decrease=0.0, min_impurity_split=None,\n",
       "            min_samples_leaf=1, min_samples_split=2,\n",
       "            min_weight_fraction_leaf=0.0, presort=False, random_state=None,\n",
       "            splitter='best')"
      ]
     },
     "execution_count": 38,
     "metadata": {},
     "output_type": "execute_result"
    }
   ],
   "source": [
    "clf = tree.DecisionTreeClassifier(max_depth=3)\n",
    "clf.fit(xtrain,ytrain)  # decision tree for scaled version"
   ]
  },
  {
   "cell_type": "code",
   "execution_count": 39,
   "metadata": {},
   "outputs": [
    {
     "data": {
      "text/plain": [
       "array([2., 1., 3., ..., 2., 1., 2.])"
      ]
     },
     "execution_count": 39,
     "metadata": {},
     "output_type": "execute_result"
    }
   ],
   "source": [
    "val_pred = clf.predict(xval)\n",
    "val_pred"
   ]
  },
  {
   "cell_type": "code",
   "execution_count": 40,
   "metadata": {},
   "outputs": [
    {
     "data": {
      "text/plain": [
       "0.8923032030706382"
      ]
     },
     "execution_count": 40,
     "metadata": {},
     "output_type": "execute_result"
    }
   ],
   "source": [
    "accuracy_score(val_pred,yval)"
   ]
  },
  {
   "cell_type": "markdown",
   "metadata": {},
   "source": [
    "# Grid Decision Tree"
   ]
  },
  {
   "cell_type": "code",
   "execution_count": 41,
   "metadata": {},
   "outputs": [],
   "source": [
    "param_grid = {'criterion':['gini','entropy'],'min_samples_split':[2,10,20],\\\n",
    "              'max_depth':[None,2,5,10],'min_samples_leaf':[1,5,10],'max_leaf_nodes':[None,5,10,20]}"
   ]
  },
  {
   "cell_type": "code",
   "execution_count": 42,
   "metadata": {},
   "outputs": [
    {
     "data": {
      "text/plain": [
       "GridSearchCV(cv=2, error_score='raise-deprecating',\n",
       "       estimator=DecisionTreeClassifier(class_weight=None, criterion='gini', max_depth=None,\n",
       "            max_features=None, max_leaf_nodes=None,\n",
       "            min_impurity_decrease=0.0, min_impurity_split=None,\n",
       "            min_samples_leaf=1, min_samples_split=2,\n",
       "            min_weight_fraction_leaf=0.0, presort=False, random_state=None,\n",
       "            splitter='best'),\n",
       "       fit_params=None, iid='warn', n_jobs=None,\n",
       "       param_grid={'criterion': ['gini', 'entropy'], 'min_samples_split': [2, 10, 20], 'max_depth': [None, 2, 5, 10], 'min_samples_leaf': [1, 5, 10], 'max_leaf_nodes': [None, 5, 10, 20]},\n",
       "       pre_dispatch='2*n_jobs', refit=True, return_train_score='warn',\n",
       "       scoring=None, verbose=0)"
      ]
     },
     "execution_count": 42,
     "metadata": {},
     "output_type": "execute_result"
    }
   ],
   "source": [
    "from sklearn.model_selection import GridSearchCV\n",
    "dt = tree.DecisionTreeClassifier()\n",
    "clf_g = GridSearchCV(dt,param_grid,cv=2)\n",
    "clf_g.fit(xtrain,ytrain)"
   ]
  },
  {
   "cell_type": "code",
   "execution_count": 43,
   "metadata": {},
   "outputs": [
    {
     "data": {
      "text/plain": [
       "{'criterion': 'entropy',\n",
       " 'max_depth': None,\n",
       " 'max_leaf_nodes': None,\n",
       " 'min_samples_leaf': 10,\n",
       " 'min_samples_split': 10}"
      ]
     },
     "execution_count": 43,
     "metadata": {},
     "output_type": "execute_result"
    }
   ],
   "source": [
    "clf_g.best_params_"
   ]
  },
  {
   "cell_type": "code",
   "execution_count": 44,
   "metadata": {},
   "outputs": [
    {
     "data": {
      "text/plain": [
       "array([2., 1., 3., ..., 2., 1., 2.])"
      ]
     },
     "execution_count": 44,
     "metadata": {},
     "output_type": "execute_result"
    }
   ],
   "source": [
    "val_pred_grid = clf.predict(xval)\n",
    "val_pred_grid"
   ]
  },
  {
   "cell_type": "code",
   "execution_count": 45,
   "metadata": {},
   "outputs": [
    {
     "data": {
      "text/plain": [
       "0.8923032030706382"
      ]
     },
     "execution_count": 45,
     "metadata": {},
     "output_type": "execute_result"
    }
   ],
   "source": [
    "accuracy_score(val_pred_grid,yval)"
   ]
  },
  {
   "cell_type": "markdown",
   "metadata": {},
   "source": [
    "# Randon forest"
   ]
  },
  {
   "cell_type": "code",
   "execution_count": 46,
   "metadata": {},
   "outputs": [],
   "source": [
    "param_grid = {'n_estimators':[100],'min_samples_leaf':[1,2,3]}"
   ]
  },
  {
   "cell_type": "code",
   "execution_count": 47,
   "metadata": {},
   "outputs": [
    {
     "data": {
      "text/plain": [
       "GridSearchCV(cv=2, error_score='raise-deprecating',\n",
       "       estimator=RandomForestClassifier(bootstrap=True, class_weight=None, criterion='gini',\n",
       "            max_depth=None, max_features='auto', max_leaf_nodes=None,\n",
       "            min_impurity_decrease=0.0, min_impurity_split=None,\n",
       "            min_samples_leaf=1, min_samples_split=2,\n",
       "            min_weight_fraction_leaf=0.0, n_estimators='warn', n_jobs=None,\n",
       "            oob_score=False, random_state=None, verbose=0,\n",
       "            warm_start=False),\n",
       "       fit_params=None, iid='warn', n_jobs=None,\n",
       "       param_grid={'n_estimators': [100], 'min_samples_leaf': [1, 2, 3]},\n",
       "       pre_dispatch='2*n_jobs', refit=True, return_train_score='warn',\n",
       "       scoring=None, verbose=0)"
      ]
     },
     "execution_count": 47,
     "metadata": {},
     "output_type": "execute_result"
    }
   ],
   "source": [
    "rf = RandomForestClassifier()\n",
    "rff = GridSearchCV(rf,param_grid,cv=2)\n",
    "rff.fit(xtrain,ytrain)"
   ]
  },
  {
   "cell_type": "code",
   "execution_count": 48,
   "metadata": {},
   "outputs": [
    {
     "data": {
      "text/plain": [
       "{'min_samples_leaf': 1, 'n_estimators': 100}"
      ]
     },
     "execution_count": 48,
     "metadata": {},
     "output_type": "execute_result"
    }
   ],
   "source": [
    "rff.best_params_"
   ]
  },
  {
   "cell_type": "code",
   "execution_count": 49,
   "metadata": {},
   "outputs": [
    {
     "data": {
      "text/plain": [
       "array([2., 1., 2., ..., 2., 1., 2.])"
      ]
     },
     "execution_count": 49,
     "metadata": {},
     "output_type": "execute_result"
    }
   ],
   "source": [
    "val_pred_rf = rff.predict(xval)\n",
    "val_pred_rf"
   ]
  },
  {
   "cell_type": "code",
   "execution_count": 50,
   "metadata": {},
   "outputs": [
    {
     "data": {
      "text/plain": [
       "0.9861282575026374"
      ]
     },
     "execution_count": 50,
     "metadata": {},
     "output_type": "execute_result"
    }
   ],
   "source": [
    "accuracy_score(val_pred_rf,yval)"
   ]
  },
  {
   "cell_type": "code",
   "execution_count": 51,
   "metadata": {},
   "outputs": [
    {
     "data": {
      "text/plain": [
       "1.0"
      ]
     },
     "execution_count": 51,
     "metadata": {},
     "output_type": "execute_result"
    }
   ],
   "source": [
    "accuracy_score(rff.predict(xtrain),ytrain)"
   ]
  },
  {
   "cell_type": "code",
   "execution_count": 52,
   "metadata": {},
   "outputs": [
    {
     "data": {
      "text/plain": [
       "array([1., 3., 2., ..., 2., 2., 3.])"
      ]
     },
     "execution_count": 52,
     "metadata": {},
     "output_type": "execute_result"
    }
   ],
   "source": [
    "test_pred_rf = rff.predict(test)\n",
    "test_pred_rf"
   ]
  },
  {
   "cell_type": "code",
   "execution_count": 53,
   "metadata": {},
   "outputs": [
    {
     "data": {
      "text/html": [
       "<div>\n",
       "<style scoped>\n",
       "    .dataframe tbody tr th:only-of-type {\n",
       "        vertical-align: middle;\n",
       "    }\n",
       "\n",
       "    .dataframe tbody tr th {\n",
       "        vertical-align: top;\n",
       "    }\n",
       "\n",
       "    .dataframe thead th {\n",
       "        text-align: right;\n",
       "    }\n",
       "</style>\n",
       "<table border=\"1\" class=\"dataframe\">\n",
       "  <thead>\n",
       "    <tr style=\"text-align: right;\">\n",
       "      <th></th>\n",
       "      <th>ID</th>\n",
       "      <th>Year</th>\n",
       "      <th>Organization Group Code</th>\n",
       "      <th>Department Code</th>\n",
       "      <th>Union Code</th>\n",
       "      <th>Job Family Code</th>\n",
       "      <th>Job Code</th>\n",
       "      <th>Overtime</th>\n",
       "      <th>Other Salaries</th>\n",
       "      <th>Retirement</th>\n",
       "      <th>Health/Dental</th>\n",
       "      <th>Other Benefits</th>\n",
       "    </tr>\n",
       "  </thead>\n",
       "  <tbody>\n",
       "    <tr>\n",
       "      <th>0</th>\n",
       "      <td>9240</td>\n",
       "      <td>2</td>\n",
       "      <td>4</td>\n",
       "      <td>20</td>\n",
       "      <td>54</td>\n",
       "      <td>13</td>\n",
       "      <td>281</td>\n",
       "      <td>0.0</td>\n",
       "      <td>0.00</td>\n",
       "      <td>0.00</td>\n",
       "      <td>2203.32</td>\n",
       "      <td>2014.12</td>\n",
       "    </tr>\n",
       "    <tr>\n",
       "      <th>1</th>\n",
       "      <td>209951</td>\n",
       "      <td>3</td>\n",
       "      <td>4</td>\n",
       "      <td>20</td>\n",
       "      <td>55</td>\n",
       "      <td>12</td>\n",
       "      <td>264</td>\n",
       "      <td>0.0</td>\n",
       "      <td>1689.53</td>\n",
       "      <td>31464.76</td>\n",
       "      <td>11872.83</td>\n",
       "      <td>9947.92</td>\n",
       "    </tr>\n",
       "    <tr>\n",
       "      <th>2</th>\n",
       "      <td>29879</td>\n",
       "      <td>3</td>\n",
       "      <td>5</td>\n",
       "      <td>35</td>\n",
       "      <td>54</td>\n",
       "      <td>23</td>\n",
       "      <td>483</td>\n",
       "      <td>0.0</td>\n",
       "      <td>932.77</td>\n",
       "      <td>8858.22</td>\n",
       "      <td>9705.96</td>\n",
       "      <td>3764.93</td>\n",
       "    </tr>\n",
       "    <tr>\n",
       "      <th>3</th>\n",
       "      <td>177914</td>\n",
       "      <td>2</td>\n",
       "      <td>1</td>\n",
       "      <td>41</td>\n",
       "      <td>8</td>\n",
       "      <td>8</td>\n",
       "      <td>201</td>\n",
       "      <td>0.0</td>\n",
       "      <td>0.00</td>\n",
       "      <td>23955.61</td>\n",
       "      <td>11687.19</td>\n",
       "      <td>8880.83</td>\n",
       "    </tr>\n",
       "    <tr>\n",
       "      <th>4</th>\n",
       "      <td>180406</td>\n",
       "      <td>2</td>\n",
       "      <td>4</td>\n",
       "      <td>20</td>\n",
       "      <td>54</td>\n",
       "      <td>18</td>\n",
       "      <td>395</td>\n",
       "      <td>0.0</td>\n",
       "      <td>620.54</td>\n",
       "      <td>20644.61</td>\n",
       "      <td>12384.59</td>\n",
       "      <td>7491.65</td>\n",
       "    </tr>\n",
       "  </tbody>\n",
       "</table>\n",
       "</div>"
      ],
      "text/plain": [
       "       ID  Year  Organization Group Code  Department Code  Union Code  \\\n",
       "0    9240     2                        4               20          54   \n",
       "1  209951     3                        4               20          55   \n",
       "2   29879     3                        5               35          54   \n",
       "3  177914     2                        1               41           8   \n",
       "4  180406     2                        4               20          54   \n",
       "\n",
       "   Job Family Code  Job Code  Overtime  Other Salaries  Retirement  \\\n",
       "0               13       281       0.0            0.00        0.00   \n",
       "1               12       264       0.0         1689.53    31464.76   \n",
       "2               23       483       0.0          932.77     8858.22   \n",
       "3                8       201       0.0            0.00    23955.61   \n",
       "4               18       395       0.0          620.54    20644.61   \n",
       "\n",
       "   Health/Dental  Other Benefits  \n",
       "0        2203.32         2014.12  \n",
       "1       11872.83         9947.92  \n",
       "2        9705.96         3764.93  \n",
       "3       11687.19         8880.83  \n",
       "4       12384.59         7491.65  "
      ]
     },
     "execution_count": 53,
     "metadata": {},
     "output_type": "execute_result"
    }
   ],
   "source": [
    "test.head()"
   ]
  },
  {
   "cell_type": "code",
   "execution_count": 54,
   "metadata": {},
   "outputs": [],
   "source": [
    "df = pd.DataFrame({'ID':test['ID'],'Class':test_pred_rf})"
   ]
  },
  {
   "cell_type": "code",
   "execution_count": 55,
   "metadata": {},
   "outputs": [
    {
     "data": {
      "text/html": [
       "<div>\n",
       "<style scoped>\n",
       "    .dataframe tbody tr th:only-of-type {\n",
       "        vertical-align: middle;\n",
       "    }\n",
       "\n",
       "    .dataframe tbody tr th {\n",
       "        vertical-align: top;\n",
       "    }\n",
       "\n",
       "    .dataframe thead th {\n",
       "        text-align: right;\n",
       "    }\n",
       "</style>\n",
       "<table border=\"1\" class=\"dataframe\">\n",
       "  <thead>\n",
       "    <tr style=\"text-align: right;\">\n",
       "      <th></th>\n",
       "      <th>ID</th>\n",
       "      <th>Class</th>\n",
       "    </tr>\n",
       "  </thead>\n",
       "  <tbody>\n",
       "    <tr>\n",
       "      <th>0</th>\n",
       "      <td>9240</td>\n",
       "      <td>1.0</td>\n",
       "    </tr>\n",
       "    <tr>\n",
       "      <th>1</th>\n",
       "      <td>209951</td>\n",
       "      <td>3.0</td>\n",
       "    </tr>\n",
       "    <tr>\n",
       "      <th>2</th>\n",
       "      <td>29879</td>\n",
       "      <td>2.0</td>\n",
       "    </tr>\n",
       "    <tr>\n",
       "      <th>3</th>\n",
       "      <td>177914</td>\n",
       "      <td>3.0</td>\n",
       "    </tr>\n",
       "    <tr>\n",
       "      <th>4</th>\n",
       "      <td>180406</td>\n",
       "      <td>3.0</td>\n",
       "    </tr>\n",
       "  </tbody>\n",
       "</table>\n",
       "</div>"
      ],
      "text/plain": [
       "       ID  Class\n",
       "0    9240    1.0\n",
       "1  209951    3.0\n",
       "2   29879    2.0\n",
       "3  177914    3.0\n",
       "4  180406    3.0"
      ]
     },
     "execution_count": 55,
     "metadata": {},
     "output_type": "execute_result"
    }
   ],
   "source": [
    "df.head()"
   ]
  },
  {
   "cell_type": "code",
   "execution_count": 56,
   "metadata": {},
   "outputs": [],
   "source": [
    "df.to_csv('submission2.csv',index=False)"
   ]
  },
  {
   "cell_type": "markdown",
   "metadata": {},
   "source": [
    "# BaggingClassifier"
   ]
  },
  {
   "cell_type": "code",
   "execution_count": 76,
   "metadata": {},
   "outputs": [
    {
     "name": "stdout",
     "output_type": "stream",
     "text": [
      "0.9838836389755561\n"
     ]
    }
   ],
   "source": [
    "from sklearn.ensemble import BaggingClassifier\n",
    "from sklearn.metrics import accuracy_score\n",
    "from sklearn import tree\n",
    "model = BaggingClassifier(tree.DecisionTreeClassifier(random_state = 1))\n",
    "model.fit(xtrain,ytrain)\n",
    "y_pred = model.predict(xval)\n",
    "print(accuracy_score(y_pred,yval))"
   ]
  },
  {
   "cell_type": "code",
   "execution_count": null,
   "metadata": {},
   "outputs": [],
   "source": [
    "model.fit(xval,yval)\n",
    "model.score(xval,yval)"
   ]
  },
  {
   "cell_type": "code",
   "execution_count": 77,
   "metadata": {},
   "outputs": [],
   "source": [
    "test_pred = model.predict(test)\n",
    "df = pd.DataFrame({\"ID\":test['ID'],\"Class\":test_pred})\n",
    "df.to_csv(\"submission6.csv\",index = False)"
   ]
  },
  {
   "cell_type": "markdown",
   "metadata": {},
   "source": [
    "# GradientBoostingClassifier"
   ]
  },
  {
   "cell_type": "code",
   "execution_count": 78,
   "metadata": {},
   "outputs": [
    {
     "name": "stdout",
     "output_type": "stream",
     "text": [
      "0.9745684720881687\n"
     ]
    }
   ],
   "source": [
    "from sklearn.ensemble import GradientBoostingClassifier\n",
    "model_4 = GradientBoostingClassifier(random_state=1)\n",
    "model_4.fit(xtrain,ytrain)\n",
    "y_pred = model_4.predict(xval)\n",
    "print(accuracy_score(y_pred,yval))"
   ]
  },
  {
   "cell_type": "code",
   "execution_count": 79,
   "metadata": {},
   "outputs": [],
   "source": [
    "test_pred = model_4.predict(test)\n",
    "df = pd.DataFrame({\"ID\":test['ID'],\"Class\":test_pred})\n",
    "df.to_csv(\"submission7.csv\",index = False)"
   ]
  },
  {
   "cell_type": "code",
   "execution_count": null,
   "metadata": {},
   "outputs": [],
   "source": []
  }
 ],
 "metadata": {
  "kernelspec": {
   "display_name": "Python 3",
   "language": "python",
   "name": "python3"
  },
  "language_info": {
   "codemirror_mode": {
    "name": "ipython",
    "version": 3
   },
   "file_extension": ".py",
   "mimetype": "text/x-python",
   "name": "python",
   "nbconvert_exporter": "python",
   "pygments_lexer": "ipython3",
   "version": "3.7.4"
  }
 },
 "nbformat": 4,
 "nbformat_minor": 2
}
